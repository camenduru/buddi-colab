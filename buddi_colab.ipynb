{
  "cells": [
    {
      "cell_type": "markdown",
      "metadata": {
        "id": "view-in-github"
      },
      "source": [
        "[![Open In Colab](https://colab.research.google.com/assets/colab-badge.svg)](https://colab.research.google.com/github/camenduru/buddi-colab/blob/main/buddi_colab.ipynb)"
      ]
    },
    {
      "cell_type": "code",
      "execution_count": null,
      "metadata": {
        "id": "VjYy0F2gZIPR"
      },
      "outputs": [],
      "source": [
        "%cd /content\n",
        "!git clone -b v1.0 --recursive https://github.com/camenduru/buddi\n",
        "%cd /content/buddi\n",
        "\n",
        "!wget https://huggingface.co/camenduru/buddi/resolve/main/essentials_new.zip?download=true -O /content/essentials.zip\n",
        "!unzip /content/essentials.zip -d /content/buddi\n",
        "\n",
        "!pip install -q https://github.com/camenduru/wheels/releases/download/colab/pytorch3d-0.7.5-cp310-cp310-linux_x86_64.whl\n",
        "!pip install -q omegaconf pyrender einops loguru wandb smplx chumpy\n",
        "\n",
        "import os\n",
        "new_path = '/content/buddi'\n",
        "os.environ['PYTHONPATH'] = f\"{new_path}:{os.environ.get('PYTHONPATH', '')}\"\n",
        "\n",
        "!apt -y install -qq aria2\n",
        "# ⚠ According to the license we have to register and download the models at https://smpl-x.is.tue.mpg.de/register.php ⚠\n",
        "!aria2c --console-log-level=error -c -x 16 -s 16 -k 1M https://huggingface.co/camenduru/buddi/resolve/main/essentials/body_models/smil/smil_web.pkl -d /content/buddi/essentials/body_models/smil -o smil_web.pkl\n",
        "!aria2c --console-log-level=error -c -x 16 -s 16 -k 1M https://huggingface.co/camenduru/buddi/resolve/main/essentials/body_models/smil/smil_packed_info.pth -d /content/buddi/essentials/body_models/smil -o smil_packed_info.pth\n",
        "!aria2c --console-log-level=error -c -x 16 -s 16 -k 1M https://huggingface.co/camenduru/buddi/resolve/main/essentials/body_models/smil/smplx_kid_template.npy -d /content/buddi/essentials/body_models/smil -o smplx_kid_template.npy\n",
        "!aria2c --console-log-level=error -c -x 16 -s 16 -k 1M https://huggingface.co/camenduru/buddi/resolve/main/essentials/body_models/smpl/SMPL_NEUTRAL.pkl -d /content/buddi/essentials/body_models/smpl -o SMPL_NEUTRAL.pkl\n",
        "!aria2c --console-log-level=error -c -x 16 -s 16 -k 1M https://huggingface.co/camenduru/buddi/resolve/main/essentials/body_models/smplx/SMPLX_NEUTRAL.npz -d /content/buddi/essentials/body_models/smplx -o SMPLX_NEUTRAL.npz\n",
        "!aria2c --console-log-level=error -c -x 16 -s 16 -k 1M https://huggingface.co/camenduru/buddi/resolve/main/essentials/body_models/smplx/SMPLX_NEUTRAL.pkl -d /content/buddi/essentials/body_models/smplx -o SMPLX_NEUTRAL.pkl\n",
        "!aria2c --console-log-level=error -c -x 16 -s 16 -k 1M https://huggingface.co/camenduru/buddi/resolve/main/essentials/body_models/smpla/SMPLA_NEUTRAL.pth -d /content/buddi/essentials/body_models/smpla -o SMPLA_NEUTRAL.pth\n",
        "\n",
        "!pip install simple_romp\n",
        "!aria2c --console-log-level=error -c -x 16 -s 16 -k 1M https://huggingface.co/camenduru/SMPLer-X/resolve/main/SMPL_NEUTRAL.pkl -d /content/smpl_model_data -o SMPL_NEUTRAL.pkl\n",
        "!aria2c --console-log-level=error -c -x 16 -s 16 -k 1M https://huggingface.co/camenduru/buddi/resolve/main/romp/J_regressor_extra.npy -d /content/smpl_model_data -o J_regressor_extra.npy\n",
        "!aria2c --console-log-level=error -c -x 16 -s 16 -k 1M https://huggingface.co/camenduru/buddi/resolve/main/romp/J_regressor_h36m.npy -d /content/smpl_model_data -o J_regressor_h36m.npy\n",
        "!aria2c --console-log-level=error -c -x 16 -s 16 -k 1M https://huggingface.co/camenduru/buddi/resolve/main/romp/smpl_kid_template.npy -d /content/smpl_model_data -o smpl_kid_template.npy\n",
        "!aria2c --console-log-level=error -c -x 16 -s 16 -k 1M https://huggingface.co/camenduru/buddi/resolve/main/romp/smil_web.pkl -d /content/smpl_model_data/smil -o smil_web.pkl\n",
        "!romp.prepare_smpl -source_dir=/content/smpl_model_data\n",
        "!bev.prepare_smil -source_dir=/content/smpl_model_data\n",
        "!wget https://github.com/camenduru/BEV-colab/assets/54370274/a1ca1475-f6e0-44c1-992f-8142c37dea71 -O /content/buddi/demo/data/FlickrCI3D_Signatures/demo/images/a1.jpg\n",
        "\n",
        "!mkdir /content/images\n",
        "!wget https://github.com/camenduru/BEV-colab/assets/54370274/a1ca1475-f6e0-44c1-992f-8142c37dea71 -O /content/images/a1.jpg\n",
        "\n",
        "!pip install https://github.com/camenduru/wheels/releases/download/colab/mmcv_full-1.4.8-cp310-cp310-linux_x86_64.whl -U\n",
        "!pip install https://github.com/camenduru/wheels/releases/download/colab/detectron2-0.6-cp310-cp310-linux_x86_64.whl\n",
        "!pip install mmdet==2.25.0 timm -U\n",
        "!aria2c --console-log-level=error -c -x 16 -s 16 -k 1M https://huggingface.co/camenduru/buddi/resolve/main/wholebody.pth -d /content/buddi/essentials/vitpose -o wholebody.pth\n",
        "!pip install simple_romp\n",
        "%cd /content/buddi/third-party/ViTPose\n",
        "!pip install -v -e .\n",
        "%cd /content/buddi"
      ]
    },
    {
      "cell_type": "code",
      "execution_count": null,
      "metadata": {},
      "outputs": [],
      "source": [
        "import os, glob\n",
        "for image_path in glob.glob(os.path.join(\"/content/buddi/demo/data/images_live\", \"*\")):\n",
        "    image_name = os.path.basename(image_path)\n",
        "    output_path = os.path.join(\"/content/buddi/demo/data/bev_live\", image_name)\n",
        "    !bev -i {image_path} -o {output_path}"
      ]
    },
    {
      "cell_type": "code",
      "execution_count": null,
      "metadata": {},
      "outputs": [],
      "source": [
        "%cd /content/buddi\n",
        "!python llib/utils/keypoints/vitpose_model.py --image_folder demo/data/images_live --out_folder demo/data/vitpose_live"
      ]
    },
    {
      "cell_type": "code",
      "execution_count": null,
      "metadata": {},
      "outputs": [],
      "source": [
        "%cd /content/buddi\n",
        "!python llib/methods/hhcs_optimization/main.py --exp-cfg llib/methods/hhcs_optimization/configs/buddi_cond_bev_demo.yaml \\\n",
        " --exp-opts logging.base_folder=demo/optimization/buddi_cond_bev_demo_live \\\n",
        " datasets.train_names=['demo'] \\\n",
        " datasets.train_composition=[1.0] \\\n",
        " datasets.demo.original_data_folder=demo/data \\\n",
        " datasets.demo.image_folder=images_live \\\n",
        " datasets.demo.bev_folder=bev_live \\\n",
        " datasets.demo.vitpose_folder=vitpose_live \\\n",
        " datasets.demo.openpose_folder=none \\\n",
        " model.optimization.pretrained_diffusion_model_ckpt=essentials/buddi/buddi_cond_bev.pt \\\n",
        " model.optimization.pretrained_diffusion_model_cfg=essentials/buddi/buddi_cond_bev.yaml \\\n",
        " logging.run=fit_buddi_cond_bev_flickrci3ds"
      ]
    }
  ],
  "metadata": {
    "accelerator": "GPU",
    "colab": {
      "gpuType": "T4",
      "provenance": []
    },
    "kernelspec": {
      "display_name": "Python 3",
      "name": "python3"
    },
    "language_info": {
      "name": "python"
    }
  },
  "nbformat": 4,
  "nbformat_minor": 0
}
