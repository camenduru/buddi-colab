{
  "cells": [
    {
      "cell_type": "markdown",
      "metadata": {
        "id": "view-in-github"
      },
      "source": [
        "[![Open In Colab](https://colab.research.google.com/assets/colab-badge.svg)](https://colab.research.google.com/github/camenduru/buddi-colab/blob/main/test.ipynb)"
      ]
    },
    {
      "cell_type": "code",
      "execution_count": null,
      "metadata": {
        "id": "VjYy0F2gZIPR"
      },
      "outputs": [],
      "source": [
        "%cd /content\n",
        "!pip install simple_romp chumpy\n",
        "!apt -y install -qq aria2\n",
        "!aria2c --console-log-level=error -c -x 16 -s 16 -k 1M https://huggingface.co/camenduru/SMPLer-X/resolve/main/SMPL_NEUTRAL.pkl -d /content/smpl_model_data -o SMPL_NEUTRAL.pkl\n",
        "!aria2c --console-log-level=error -c -x 16 -s 16 -k 1M https://huggingface.co/camenduru/buddi/resolve/main/romp/J_regressor_extra.npy -d /content/smpl_model_data -o J_regressor_extra.npy\n",
        "!aria2c --console-log-level=error -c -x 16 -s 16 -k 1M https://huggingface.co/camenduru/buddi/resolve/main/romp/J_regressor_h36m.npy -d /content/smpl_model_data -o J_regressor_h36m.npy\n",
        "!aria2c --console-log-level=error -c -x 16 -s 16 -k 1M https://huggingface.co/camenduru/buddi/resolve/main/romp/smpl_kid_template.npy -d /content/smpl_model_data -o smpl_kid_template.npy\n",
        "!aria2c --console-log-level=error -c -x 16 -s 16 -k 1M https://huggingface.co/camenduru/buddi/resolve/main/romp/smil_web.pkl -d /content/smpl_model_data/smil -o smil_web.pkl\n",
        "!romp.prepare_smpl -source_dir=/content/smpl_model_data\n",
        "!bev.prepare_smil -source_dir=/content/smpl_model_data\n",
        "\n",
        "%cd /content\n",
        "!git clone -b dev https://github.com/camenduru/buddi\n",
        "%cd /content/buddi\n",
        "\n",
        "!wget https://huggingface.co/camenduru/buddi/resolve/main/essentials_new.zip -O /content/essentials.zip\n",
        "!unzip /content/essentials.zip -d /content/buddi\n",
        "\n",
        "!pip install -q https://github.com/camenduru/wheels/releases/download/colab/pytorch3d-0.7.5-cp310-cp310-linux_x86_64.whl\n",
        "!pip install -q omegaconf pyrender einops loguru wandb smplx chumpy\n",
        "\n",
        "import os\n",
        "new_path = '/content/buddi'\n",
        "os.environ['PYTHONPATH'] = f\"{new_path}:{os.environ.get('PYTHONPATH', '')}\"\n",
        "\n",
        "!apt -y install -qq aria2\n",
        "# According to license we have to register and download the models at https://smpl-x.is.tue.mpg.de/register.php\n",
        "!aria2c --console-log-level=error -c -x 16 -s 16 -k 1M https://huggingface.co/camenduru/buddi/resolve/main/essentials/body_models/smil/smil_web.pkl -d /content/buddi/essentials/body_models/smil -o smil_web.pkl\n",
        "!aria2c --console-log-level=error -c -x 16 -s 16 -k 1M https://huggingface.co/camenduru/buddi/resolve/main/essentials/body_models/smil/smil_packed_info.pth -d /content/buddi/essentials/body_models/smil -o smil_packed_info.pth\n",
        "!aria2c --console-log-level=error -c -x 16 -s 16 -k 1M https://huggingface.co/camenduru/buddi/resolve/main/essentials/body_models/smil/smplx_kid_template.npy -d /content/buddi/essentials/body_models/smil -o smplx_kid_template.npy\n",
        "!aria2c --console-log-level=error -c -x 16 -s 16 -k 1M https://huggingface.co/camenduru/buddi/resolve/main/essentials/body_models/smpl/SMPL_NEUTRAL.pkl -d /content/buddi/essentials/body_models/smpl -o SMPL_NEUTRAL.pkl\n",
        "!aria2c --console-log-level=error -c -x 16 -s 16 -k 1M https://huggingface.co/camenduru/buddi/resolve/main/essentials/body_models/smplx/SMPLX_NEUTRAL.npz -d /content/buddi/essentials/body_models/smplx -o SMPLX_NEUTRAL.npz\n",
        "!aria2c --console-log-level=error -c -x 16 -s 16 -k 1M https://huggingface.co/camenduru/buddi/resolve/main/essentials/body_models/smplx/SMPLX_NEUTRAL.pkl -d /content/buddi/essentials/body_models/smplx -o SMPLX_NEUTRAL.pkl\n",
        "!aria2c --console-log-level=error -c -x 16 -s 16 -k 1M https://huggingface.co/camenduru/buddi/resolve/main/essentials/body_models/smpla/SMPLA_NEUTRAL.pth -d /content/buddi/essentials/body_models/smpla -o SMPLA_NEUTRAL.pth\n",
        "\n",
        "!rm /content/buddi/demo/data/FlickrCI3D_Signatures/demo/images/college_232334.png\n",
        "!rm /content/buddi/demo/data/FlickrCI3D_Signatures/demo/images/girls_250416.png\n",
        "!rm /content/buddi/demo/data/FlickrCI3D_Signatures/demo/images/girls_280199.png"
      ]
    },
    {
      "cell_type": "code",
      "execution_count": null,
      "metadata": {},
      "outputs": [],
      "source": [
        "!bev -i /content/buddi/demo/data/FlickrCI3D_Signatures/demo/images/a1.jpg -o /content/buddi/demo/data/FlickrCI3D_Signatures/demo/bev/a1.jpg"
      ]
    },
    {
      "cell_type": "code",
      "execution_count": null,
      "metadata": {},
      "outputs": [],
      "source": [
        "%cd /content/buddi\n",
        "!python llib/methods/hhcs_optimization/main.py --exp-cfg llib/methods/hhcs_optimization/configs/buddi_cond_bev_demo.yaml --exp-opts logging.base_folder=demo/optimization/buddi_cond_bev_demo datasets.train_names=['demo'] datasets.train_composition=[1.0] datasets.demo.original_data_folder=demo/data/FlickrCI3D_Signatures/demo datasets.demo.image_folder=images model.optimization.pretrained_diffusion_model_ckpt=essentials/buddi/buddi_cond_bev.pt model.optimization.pretrained_diffusion_model_cfg=essentials/buddi/buddi_cond_bev.yaml logging.run=fit_buddi_cond_bev_flickrci3ds"
      ]
    },
    {
      "cell_type": "code",
      "execution_count": null,
      "metadata": {},
      "outputs": [],
      "source": [
        "%cd /content\n",
        "!git clone -b dev https://github.com/camenduru/ViTPose\n",
        "%cd /content/ViTPose\n",
        "!mkdir /content/images\n",
        "!wget https://github.com/camenduru/BEV-colab/assets/54370274/a1ca1475-f6e0-44c1-992f-8142c37dea71 -O /content/images/a1.jpg\n",
        "\n",
        "!pip install https://github.com/camenduru/wheels/releases/download/colab/mmcv_full-1.4.8-cp310-cp310-linux_x86_64.whl -U\n",
        "!pip install mmdet==2.25.0 timm -U\n",
        "!pip install -v -e .\n",
        "\n",
        "# !python demo/top_down_img_demo_with_mmdet.py demo/mmdetection_cfg/faster_rcnn_r50_fpn_coco.py https://download.openmmlab.com/mmdetection/v2.0/faster_rcnn/faster_rcnn_r50_fpn_1x_coco/faster_rcnn_r50_fpn_1x_coco_20200130-047c8118.pth configs/wholebody/2d_kpt_sview_rgb_img/topdown_heatmap/coco-wholebody/hrnet_w48_coco_wholebody_384x288_dark_plus.py https://download.openmmlab.com/mmpose/top_down/hrnet/hrnet_w48_coco_wholebody_384x288_dark-f5726563_20200918.pth --img-root /content/images/ --out-img-root /content/images/keypoints/vitposeplus_images --out-res-root /content/images/keypoints/vitposeplus"
      ]
    },
    {
      "cell_type": "code",
      "execution_count": null,
      "metadata": {},
      "outputs": [],
      "source": [
        "%cd /content/ViTPose\n",
        "!python demo/top_down_img_demo_with_mmdet.py demo/mmdetection_cfg/faster_rcnn_r50_fpn_coco.py https://download.openmmlab.com/mmdetection/v2.0/faster_rcnn/faster_rcnn_r50_fpn_1x_coco/faster_rcnn_r50_fpn_1x_coco_20200130-047c8118.pth configs/wholebody/2d_kpt_sview_rgb_img/topdown_heatmap/coco-wholebody/hrnet_w48_coco_wholebody_384x288_dark_plus.py https://download.openmmlab.com/mmpose/top_down/hrnet/hrnet_w48_coco_wholebody_384x288_dark-f5726563_20200918.pth --img /content/images/a1.jpg --out-img-root /content/images"
      ]
    }
  ],
  "metadata": {
    "accelerator": "GPU",
    "colab": {
      "gpuType": "T4",
      "provenance": []
    },
    "kernelspec": {
      "display_name": "Python 3",
      "name": "python3"
    },
    "language_info": {
      "name": "python"
    }
  },
  "nbformat": 4,
  "nbformat_minor": 0
}
